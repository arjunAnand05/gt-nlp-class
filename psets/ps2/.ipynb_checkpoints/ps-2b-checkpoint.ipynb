{
 "metadata": {
  "name": "",
  "signature": "sha256:bf3a0aba20cea8abc5dd853630bb9c3a1b64f4ffb26e8f2e7fcc79b739bc5df0"
 },
 "nbformat": 3,
 "nbformat_minor": 0,
 "worksheets": [
  {
   "cells": [
    {
     "cell_type": "markdown",
     "metadata": {},
     "source": [
      "Problem Set 2: Sequence labeling\n",
      "=====================\n",
      "\n",
      "This project focuses on sequence labeling, in the target domain of Twitter part-of-speech tagging.\n",
      "Part (b) focuses on *discriminative* approaches, mainly averaged perceptron and structured perceptron.\n"
     ]
    },
    {
     "cell_type": "code",
     "collapsed": false,
     "input": [
      "import scorer, operator\n",
      "from collections import defaultdict, Counter\n",
      "import matplotlib.pyplot as plt\n",
      "%pylab --no-import-all inline"
     ],
     "language": "python",
     "metadata": {},
     "outputs": [
      {
       "output_type": "stream",
       "stream": "stdout",
       "text": [
        "Populating the interactive namespace from numpy and matplotlib\n"
       ]
      }
     ],
     "prompt_number": 7
    },
    {
     "cell_type": "code",
     "collapsed": false,
     "input": [
      "\"\"\"\n",
      "Data processing code\n",
      "\"\"\"\n",
      "def conllSeqGenerator(input_file,max_insts=1000000):\n",
      "    \"\"\" \n",
      "    return an instance generator for a filename.\n",
      "    \n",
      "    The generator yields lists of words and tags.  \n",
      "    No need to change this\n",
      "    \"\"\"\n",
      "    cur_words = []\n",
      "    cur_tags = []\n",
      "    num_insts = 0\n",
      "    with open(input_file) as instances:\n",
      "        for line in instances:\n",
      "            if len(line.rstrip()) == 0:\n",
      "                if len(cur_words) > 0:\n",
      "                    num_insts += 1\n",
      "                    yield cur_words,cur_tags\n",
      "                    cur_words = []\n",
      "                    cur_tags = []\n",
      "            else:\n",
      "                parts = line.rstrip().split()\n",
      "                cur_words.append(parts[0])\n",
      "                if len(parts)>1:\n",
      "                    cur_tags.append(parts[1])\n",
      "                else: cur_tags.append(unk)\n",
      "        if len(cur_words)>0: \n",
      "            num_insts += 1\n",
      "            yield cur_words,cur_tags"
     ],
     "language": "python",
     "metadata": {},
     "outputs": [],
     "prompt_number": 8
    },
    {
     "cell_type": "code",
     "collapsed": false,
     "input": [
      "## Define the file names\n",
      "trainfile = 'oct27.train'\n",
      "devfile = 'oct27.dev'\n",
      "testfile = 'oct27.test' # You do not have this for now\n",
      "unknown = \"**UNKNOWN**\""
     ],
     "language": "python",
     "metadata": {},
     "outputs": [],
     "prompt_number": 9
    },
    {
     "cell_type": "code",
     "collapsed": false,
     "input": [
      "# for convenience\n",
      "tr_all = []\n",
      "for i,(words,tags) in enumerate(conllSeqGenerator(trainfile)):\n",
      "    tr_all.append((words,tags))"
     ],
     "language": "python",
     "metadata": {},
     "outputs": [],
     "prompt_number": 10
    },
    {
     "cell_type": "code",
     "collapsed": false,
     "input": [
      "alltags = set()\n",
      "for i,(words, tags) in enumerate(tr_all):    \n",
      "    for tag in tags:\n",
      "        alltags.add(tag)\n",
      "print alltags"
     ],
     "language": "python",
     "metadata": {},
     "outputs": [
      {
       "output_type": "stream",
       "stream": "stdout",
       "text": [
        "set(['!', '#', '$', '&', ',', 'A', '@', 'E', 'D', 'G', 'M', 'L', 'O', 'N', 'P', 'S', 'R', 'U', 'T', 'V', 'Y', 'X', 'Z', '^', '~'])\n"
       ]
      }
     ],
     "prompt_number": 11
    },
    {
     "cell_type": "code",
     "collapsed": false,
     "input": [
      "start_tag = '--START--'\n",
      "end_tag = '--END--'\n",
      "trans ='--T--'\n",
      "emit = '--E--'\n",
      "offset = '--OFF--'"
     ],
     "language": "python",
     "metadata": {},
     "outputs": [],
     "prompt_number": 12
    },
    {
     "cell_type": "markdown",
     "metadata": {},
     "source": [
      "# 4. Classification-based tagging #\n",
      "\n",
      "First, you will perform tagging as classification problem."
     ]
    },
    {
     "cell_type": "markdown",
     "metadata": {},
     "source": [
      "Recall that in structured prediction, we have the feature function decompose:\n",
      "\n",
      "\\begin{align}\n",
      "\\renewcommand{\\vec}[1]{\\mathbf{#1}}\n",
      "\\vec{f}(\\vec{w},\\vec{y}) & = \\sum_m \\vec{f}(\\vec{w},y_m, y_{m-1}, m)\n",
      "\\end{align}\n",
      "\n",
      "You will explicitly define your feature functions in this way -- even for the classification-based tagger, which won't consider $y_{m-1}$. The features themselves are defined as tuples, as in pset 2a.\n",
      "\n",
      "Here is a simple example:"
     ]
    },
    {
     "cell_type": "code",
     "collapsed": false,
     "input": [
      "def wordFeatures(words,tag,prev_tag,m):\n",
      "    '''\n",
      "    :param words: a list of words\n",
      "    :type words: list\n",
      "    :param tag: a tag\n",
      "    :type tag: string\n",
      "    :type prev_tag: string\n",
      "    :type m: int\n",
      "    '''\n",
      "    out = {(offset,tag):1}\n",
      "    if m < len(words): #we can have m = M, for the transition to the end state\n",
      "        out[(emit,tag,words[m])]=1\n",
      "    return out"
     ],
     "language": "python",
     "metadata": {},
     "outputs": [],
     "prompt_number": 284
    },
    {
     "cell_type": "code",
     "collapsed": false,
     "input": [
      "sent = 'they can can fish'.split()"
     ],
     "language": "python",
     "metadata": {},
     "outputs": [],
     "prompt_number": 285
    },
    {
     "cell_type": "code",
     "collapsed": false,
     "input": [
      "wordFeatures(sent,'V','V',0)"
     ],
     "language": "python",
     "metadata": {},
     "outputs": [
      {
       "metadata": {},
       "output_type": "pyout",
       "prompt_number": 286,
       "text": [
        "{('--E--', 'V', 'they'): 1, ('--OFF--', 'V'): 1}"
       ]
      }
     ],
     "prompt_number": 286
    },
    {
     "cell_type": "markdown",
     "metadata": {},
     "source": [
      "**Deliverable 4a** (1 point) Create a new feature function which also includes the final character of the current word, and the final character of the preceding word (if $m > 1$). "
     ]
    },
    {
     "cell_type": "code",
     "collapsed": false,
     "input": [
      "curr_suffix = '--curr-suff--'\n",
      "prev_suffix = '--prev-suff--'\n",
      "def wordCharFeatures(words,tag,prev_tag,m):\n",
      "    output = wordFeatures(words,tag,prev_tag,m) #start with the features from wordFeatures\n",
      "    # add your code here\n",
      "    return output"
     ],
     "language": "python",
     "metadata": {},
     "outputs": [],
     "prompt_number": 1
    },
    {
     "cell_type": "code",
     "collapsed": false,
     "input": [
      "# sanity check desired output\n",
      "print wordCharFeatures(sent,'V','V',1)\n",
      "# no prev-suff feature in this one, because m=0\n",
      "print wordCharFeatures(sent,'V','V',0)"
     ],
     "language": "python",
     "metadata": {},
     "outputs": [
      {
       "output_type": "stream",
       "stream": "stdout",
       "text": [
        "{('--curr-suff--', 'V', 'n'): 1, ('--E--', 'V', 'can'): 1, ('--OFF--', 'V'): 1, ('--prev-suff--', 'V', 'y'): 1}\n",
        "{('--curr-suff--', 'V', 'y'): 1, ('--E--', 'V', 'they'): 1, ('--OFF--', 'V'): 1}\n"
       ]
      }
     ],
     "prompt_number": 288
    },
    {
     "cell_type": "markdown",
     "metadata": {},
     "source": [
      "Now you will define a classification-based tagger. To get you started, here are some test weights."
     ]
    },
    {
     "cell_type": "code",
     "collapsed": false,
     "input": [
      "test_weights = defaultdict(float)\n",
      "test_tags = ['N','V','V','N']\n",
      "for i in range(len(sent)):\n",
      "    for feat in wordFeatures(sent,test_tags[i],'X',i):\n",
      "        test_weights[feat] = 1\n",
      "    for feat in wordFeatures(sent,'X','X',i):\n",
      "        test_weights[feat] = 1\n",
      "print test_weights"
     ],
     "language": "python",
     "metadata": {},
     "outputs": [
      {
       "output_type": "stream",
       "stream": "stdout",
       "text": [
        "defaultdict(<type 'float'>, {('--OFF--', 'X'): 1, ('--E--', 'X', 'can'): 1, ('--E--', 'V', 'can'): 1, ('--E--', 'N', 'they'): 1, ('--E--', 'X', 'they'): 1, ('--E--', 'X', 'fish'): 1, ('--OFF--', 'N'): 1, ('--OFF--', 'V'): 1, ('--E--', 'N', 'fish'): 1})\n"
       ]
      }
     ],
     "prompt_number": 187
    },
    {
     "cell_type": "code",
     "collapsed": false,
     "input": [
      "# use this to find the highest-scoring label\n",
      "argmax = lambda x : max(x.iteritems(),key=operator.itemgetter(1))[0]"
     ],
     "language": "python",
     "metadata": {},
     "outputs": [],
     "prompt_number": 200
    },
    {
     "cell_type": "markdown",
     "metadata": {},
     "source": [
      "**Deliverable 4b** (1 point): Define a function that takes a list of words, feature function, dict of weights, and a tagset, and outputs a list of predicted tags (one per word)."
     ]
    },
    {
     "cell_type": "code",
     "collapsed": false,
     "input": [
      "def classifierTagger(words,featfunc,weights,all_tags):\n",
      "    \"\"\"\n",
      "    :param words: list of words\n",
      "    :param features: function from lists of words and tags to list of features\n",
      "    :param weights: defaultdict of weights\n",
      "    :param all_tags: list of permissible tags\n",
      "    :returns list of tags\n",
      "    \"\"\"\n",
      "    out = []\n",
      "    # your code\n",
      "    return out"
     ],
     "language": "python",
     "metadata": {},
     "outputs": [],
     "prompt_number": 2
    },
    {
     "cell_type": "code",
     "collapsed": false,
     "input": [
      "# sanity check from my implementation\n",
      "classifierTagger(sent,wordFeatures,test_weights,alltags)"
     ],
     "language": "python",
     "metadata": {},
     "outputs": [
      {
       "metadata": {},
       "output_type": "pyout",
       "prompt_number": 199,
       "text": [
        "['N', 'V', 'V', 'N']"
       ]
      }
     ],
     "prompt_number": 199
    },
    {
     "cell_type": "markdown",
     "metadata": {},
     "source": [
      "Here's a function that evaluates a tagger on the devset. "
     ]
    },
    {
     "cell_type": "code",
     "collapsed": false,
     "input": [
      "def evalTagger(tagger,outfilename,evalfile=devfile):\n",
      "    \"\"\"\n",
      "    :param tagger: a function that takes words and a list of candidate tags, and outputs a list of tags\n",
      "    :param outfilename: a filename to store the output\n",
      "    :param evalfile: a filename of the dev set data\n",
      "    \"\"\"\n",
      "    with open(outfilename,'w') as outfile:\n",
      "        for words,_ in conllSeqGenerator(evalfile):\n",
      "            pred_tags = tagger(words,alltags)\n",
      "            for tag in pred_tags:\n",
      "                print >>outfile, tag\n",
      "            print >>outfile, \"\"\n",
      "    return scorer.getConfusion(evalfile,outfilename) #run the scorer on the prediction file"
     ],
     "language": "python",
     "metadata": {},
     "outputs": [],
     "prompt_number": 220
    },
    {
     "cell_type": "markdown",
     "metadata": {},
     "source": [
      "To use evalTagger, you'll need pass in a tagger which takes only two arguments. \n",
      "\n",
      "To do this, you can use a lambda expression to pass some arguments to classifierTagger, as shown below:"
     ]
    },
    {
     "cell_type": "code",
     "collapsed": false,
     "input": [
      "confusion = evalTagger(lambda words,alltags : classifierTagger(words,wordFeatures,test_weights,alltags),'test')\n",
      "print scorer.accuracy(confusion)"
     ],
     "language": "python",
     "metadata": {},
     "outputs": [
      {
       "output_type": "stream",
       "stream": "stdout",
       "text": [
        "0.139539705577\n"
       ]
      }
     ],
     "prompt_number": 218
    },
    {
     "cell_type": "markdown",
     "metadata": {},
     "source": [
      "**Deliverable 4c** (3 points): Apply your averaged perceptron from pset 1b to do part-of-speech tagging. Start by adapting your oneItAvgPerceptron function. You'll have to make some changes:\n",
      "\n",
      "- Replace your call to the predict() function with a call to classifierTagger()\n",
      "- The instanceGenerator now produces word lists and tag lists as instances, instead of feature counts.\n",
      "- You can treat entire sentences as instances, if you want -- this may be slightly easier. This means that you only update the weights after seeing an entire sentence, sort of like a minibatch.\n",
      "- You'll want to add the feature function as an extra argument to both oneItAvgPerceptron and trainAvgPerceptron\n",
      "- return the training accuracy rather than the number of errors"
     ]
    },
    {
     "cell_type": "code",
     "collapsed": false,
     "input": [
      "def oneItAvgPerceptron(inst_generator,featfunc,weights,wsum,tagset,Tinit=0):\n",
      "    \"\"\"\n",
      "    :param inst_generator: iterator over instances\n",
      "    :param featfunc: feature function on (words, tag_m, tag_m_1, m)\n",
      "    :param weights: default dict\n",
      "    :param wsum: weight sum, for averaging\n",
      "    :param tagset: set of permissible tags\n",
      "    :param Tinit: initial value of t, the counter over instances\n",
      "    :returns weights: a defaultdict of weights\n",
      "    :returns wsum: a defaultdict of weight sums, for averaging (as in pset 1b)\n",
      "    :returns tr_acc: training set accuracy\n",
      "    :return i: a counter of the number of instances seen\n",
      "    \"\"\"\n",
      "    tr_err = 0.0\n",
      "    for i,(words,y_true) in enumerate(inst_generator):\n",
      "        pass # your code here\n",
      "    # note that i'm computing tr_acc for you, as long as you properly update tr_err\n",
      "    return weights, wsum, 1.-tr_err / float(sum([len(s) for s,t in inst_generator])), i"
     ],
     "language": "python",
     "metadata": {},
     "outputs": [],
     "prompt_number": 4
    },
    {
     "cell_type": "code",
     "collapsed": false,
     "input": [
      "# here's how it's used. this takes approx 2 seconds for me (using %%timeit)\n",
      "weights,wsum,tr_acc,i = oneItAvgPerceptron(tr_all,wordFeatures,defaultdict(float),defaultdict(float),alltags)"
     ],
     "language": "python",
     "metadata": {},
     "outputs": []
    },
    {
     "cell_type": "code",
     "collapsed": false,
     "input": [
      "#sanity check. The weight sum numbers might be different if you don't treat sentences as instances, which is what I do.\n",
      "print weights[emit,'D','the'], wsum[emit,'D','the']\n",
      "print weights[emit,'N','the'], wsum[emit,'N','the']\n",
      "print weights[emit,'V','like'], wsum[emit,'V','like']\n",
      "print weights[emit,'P','like'], wsum[emit,'P','like']"
     ],
     "language": "python",
     "metadata": {},
     "outputs": [
      {
       "output_type": "stream",
       "stream": "stdout",
       "text": [
        "16.0 2611.0\n",
        "-1.0 -212.0\n",
        "2.0 587.0\n",
        "5.0 942.0\n"
       ]
      }
     ],
     "prompt_number": 249
    },
    {
     "cell_type": "markdown",
     "metadata": {},
     "source": [
      "**Deliverable 4d** (2 points): Now adapt trainAvgPerceptron function to do tagging. This should require fewer changes than oneItAvgPerceptron, but you will have to:\n",
      "\n",
      "- take a feature function as an argument\n",
      "- call evalTagger instead of evalClassifier to get the confusion matrix\n",
      "- don't forget you've modified oneItAvgPerceptron to return the training set accuracy, not the number of errors"
     ]
    },
    {
     "cell_type": "code",
     "collapsed": false,
     "input": [
      "def trainAvgPerceptron(N_its,inst_generator,featfunc,tagset):\n",
      "    \"\"\"\n",
      "    :param N_its: number of iterations\n",
      "    :param inst_generator: generate words,tags pairs\n",
      "    :param featfunc: feature function\n",
      "    :param tagset: set of all possible tags\n",
      "    :returns average weights, training accuracy, dev accuracy\n",
      "    \"\"\"\n",
      "    tr_acc = [None]*N_its\n",
      "    dv_acc = [None]*N_its\n",
      "    T = 0\n",
      "    weights = defaultdict(float)\n",
      "    wsum = defaultdict(float)\n",
      "    for i in xrange(N_its):\n",
      "        # your code here\n",
      "        confusion = evalTagger(lambda words, alltags: classifierTagger(words,featfunc,avg_weights,tagset),'perc')\n",
      "        dv_acc[i] = scorer.accuracy(confusion)\n",
      "        tr_acc[i] = tr_acc_i\n",
      "        print i,'dev:',dv_acc[i],'train:',tr_acc[i]\n",
      "    return avg_weights, tr_acc, dv_acc"
     ],
     "language": "python",
     "metadata": {},
     "outputs": [],
     "prompt_number": 14
    },
    {
     "cell_type": "markdown",
     "metadata": {},
     "source": [
      "Usage example below. Note that we do about as well as the HMM with just wordCharFeatures, and we're not even considering sequence information yet. This code takes less than 30 seconds for me to run."
     ]
    },
    {
     "cell_type": "code",
     "collapsed": false,
     "input": [
      "w, tr_acc, dv_acc = trainAvgPerceptron(10,tr_all,wordCharFeatures,alltags)"
     ],
     "language": "python",
     "metadata": {},
     "outputs": [
      {
       "output_type": "stream",
       "stream": "stdout",
       "text": [
        "0 dev: 0.673439767779 train: 0.523428415076\n",
        "1"
       ]
      },
      {
       "output_type": "stream",
       "stream": "stdout",
       "text": [
        " dev: 0.710346257516 train: 0.685477802859\n",
        "2"
       ]
      },
      {
       "output_type": "stream",
       "stream": "stdout",
       "text": [
        " dev: 0.729836201534 train: 0.764279362473\n",
        "3"
       ]
      },
      {
       "output_type": "stream",
       "stream": "stdout",
       "text": [
        " dev: 0.736678415924 train: 0.824953827211\n",
        "4"
       ]
      },
      {
       "output_type": "stream",
       "stream": "stdout",
       "text": [
        " dev: 0.742691270993 train: 0.853615158356\n",
        "5"
       ]
      },
      {
       "output_type": "stream",
       "stream": "stdout",
       "text": [
        " dev: 0.746423387933 train: 0.879813940762\n",
        "6"
       ]
      },
      {
       "output_type": "stream",
       "stream": "stdout",
       "text": [
        " dev: 0.746423387933 train: 0.89034817703\n",
        "7"
       ]
      },
      {
       "output_type": "stream",
       "stream": "stdout",
       "text": [
        " dev: 0.746630727763 train: 0.899445926534\n",
        "8"
       ]
      },
      {
       "output_type": "stream",
       "stream": "stdout",
       "text": [
        " dev: 0.747045407423 train: 0.903892195089\n",
        "9"
       ]
      },
      {
       "output_type": "stream",
       "stream": "stdout",
       "text": [
        " dev: 0.747460087083 train: 0.904713044668\n"
       ]
      }
     ],
     "prompt_number": 253
    },
    {
     "cell_type": "markdown",
     "metadata": {},
     "source": [
      "**Deliverable 4e** (3 points): Make it better! Design a killer feature set that improves performance on the devset.\n",
      "\n",
      "I'm able to get above 84% on the dev set, without going too crazy. Warning: my additional features slow things down considerably."
     ]
    },
    {
     "cell_type": "code",
     "collapsed": false,
     "input": [
      "def yourFeatures(words,tag,prev_tag,m):\n",
      "    output = wordCharFeatures(words,tag,prev_tag,m) #start with the features from wordFeatures\n",
      "    # your stuff\n",
      "    return output"
     ],
     "language": "python",
     "metadata": {},
     "outputs": [],
     "prompt_number": 15
    },
    {
     "cell_type": "code",
     "collapsed": false,
     "input": [
      "w, tr_acc, dv_acc = trainAvgPerceptron(10,tr_all,jacobFeatures,alltags)"
     ],
     "language": "python",
     "metadata": {},
     "outputs": [
      {
       "output_type": "stream",
       "stream": "stdout",
       "text": [
        "0 dev: 0.809869375907 train: 0.689103221835\n",
        "1"
       ]
      },
      {
       "output_type": "stream",
       "stream": "stdout",
       "text": [
        " dev: 0.827078581796 train: 0.85169984267\n",
        "2"
       ]
      },
      {
       "output_type": "stream",
       "stream": "stdout",
       "text": [
        " dev: 0.835994194485 train: 0.908064847117\n",
        "3"
       ]
      },
      {
       "output_type": "stream",
       "stream": "stdout",
       "text": [
        " dev: 0.840970350404 train: 0.933511184076\n",
        "4"
       ]
      },
      {
       "output_type": "stream",
       "stream": "stdout",
       "text": [
        " dev: 0.842421729214 train: 0.949654559135\n",
        "5"
       ]
      },
      {
       "output_type": "stream",
       "stream": "stdout",
       "text": [
        " dev: 0.844287787684 train: 0.957042205349\n",
        "6"
       ]
      },
      {
       "output_type": "stream",
       "stream": "stdout",
       "text": [
        " dev: 0.843665768194 train: 0.963403789589\n",
        "7"
       ]
      },
      {
       "output_type": "stream",
       "stream": "stdout",
       "text": [
        " dev: 0.843043748704 train: 0.971749093645\n",
        "8"
       ]
      },
      {
       "output_type": "stream",
       "stream": "stdout",
       "text": [
        " dev: 0.842836408874 train: 0.977768657227\n",
        "9"
       ]
      },
      {
       "output_type": "stream",
       "stream": "stdout",
       "text": [
        " dev: 0.844495127514 train: 0.982283329913\n"
       ]
      }
     ],
     "prompt_number": 292
    },
    {
     "cell_type": "markdown",
     "metadata": {},
     "source": [
      "# 5. Discriminative Structure Prediction #\n",
      "\n",
      "Now you will implement a Structured Perceptron, which is trained to find the optimal *sequence* $\\vec{y} = \\text{arg}\\max_\\vec{y} \\theta^{\\top} \\vec{f}(\\vec{w},\\vec{y})$"
     ]
    },
    {
     "cell_type": "markdown",
     "metadata": {},
     "source": [
      "A key difference from the classification-based setting is that we compute features over the entire sequence.\n",
      "\n",
      "**Deliverable 5a** (0.5 points): Implement a function seqFeatures, which takes a list of words, a list of tags, and a feature function, and returns a dictionary of features and their counts."
     ]
    },
    {
     "cell_type": "code",
     "collapsed": false,
     "input": [
      "def seqFeatures(words,tags,featfunc):\n",
      "    '''\n",
      "    :param words: a list of words\n",
      "    :param tags: a list of tags\n",
      "    :param featfunc: a function to compute f(words,tag_m,tag_{m-1},m)\n",
      "    :returns list of features\n",
      "    '''\n",
      "    allfeats = defaultdict(float)\n",
      "    # your code here\n",
      "    return allfeats"
     ],
     "language": "python",
     "metadata": {},
     "outputs": [],
     "prompt_number": 16
    },
    {
     "cell_type": "code",
     "collapsed": false,
     "input": [
      "# sanity check\n",
      "seqFeatures(sent,['N','V','V','N'],wordFeatures)"
     ],
     "language": "python",
     "metadata": {},
     "outputs": [
      {
       "metadata": {},
       "output_type": "pyout",
       "prompt_number": 313,
       "text": [
        "defaultdict(<type 'float'>, {('--E--', 'V', 'can'): 2.0, ('--OFF--', 'N'): 2.0, ('--OFF--', '--END--'): 1.0, ('--E--', 'N', 'they'): 1.0, ('--OFF--', 'V'): 2.0, ('--E--', 'N', 'fish'): 1.0})"
       ]
      }
     ],
     "prompt_number": 313
    },
    {
     "cell_type": "markdown",
     "metadata": {},
     "source": [
      "**Deliverable 5b** (0.5 points): now create a new feature function wordTransFeatures, which adds tag-to-tag transition features to wordFeatures. Note that this feature set is identical to what the HMM uses."
     ]
    },
    {
     "cell_type": "code",
     "collapsed": false,
     "input": [
      "def wordTransFeatures(words,tag,prev_tag,m):\n",
      "    output = wordFeatures(words,tag,prev_tag,m) #start with the features from wordFeatures\n",
      "# your code here\n",
      "    return output"
     ],
     "language": "python",
     "metadata": {},
     "outputs": [],
     "prompt_number": 275
    },
    {
     "cell_type": "code",
     "collapsed": false,
     "input": [
      "# sanity check\n",
      "seqFeatures(sent,['N','V','V','N'],wordTransFeatures)"
     ],
     "language": "python",
     "metadata": {},
     "outputs": [
      {
       "metadata": {},
       "output_type": "pyout",
       "prompt_number": 314,
       "text": [
        "defaultdict(<type 'float'>, {('--T--', 'V', 'V'): 1.0, ('--E--', 'V', 'can'): 2.0, ('--T--', 'N', 'V'): 1.0, ('--OFF--', 'N'): 2.0, ('--OFF--', '--END--'): 1.0, ('--T--', 'N', '--START--'): 1.0, ('--E--', 'N', 'they'): 1.0, ('--OFF--', 'V'): 2.0, ('--E--', 'N', 'fish'): 1.0, ('--T--', '--END--', 'N'): 1.0, ('--T--', 'V', 'N'): 1.0})"
       ]
      }
     ],
     "prompt_number": 314
    },
    {
     "cell_type": "markdown",
     "metadata": {},
     "source": [
      "**Deliverable 5c** (1 point): copy in your viterbiTagger from part 2a. If you implemented it correctly, you should be able to use it without modification here."
     ]
    },
    {
     "cell_type": "code",
     "collapsed": false,
     "input": [
      "def viterbiTagger(words,feat_func,weights,all_tags,debug=False):\n",
      "    \"\"\"\n",
      "    :param words: list of words\n",
      "    :param feat_func: feature function\n",
      "    :param weights: defaultdict of weights\n",
      "    :param tagset: list of permissible tags\n",
      "    :param debug: optional debug flag\n",
      "    :returns output: tag sequence\n",
      "    :returns best_score: viterbi score of best tag sequence\n",
      "    \"\"\"\n",
      "    return output,best_score"
     ],
     "language": "python",
     "metadata": {},
     "outputs": [],
     "prompt_number": 17
    },
    {
     "cell_type": "code",
     "collapsed": false,
     "input": [
      "#sanity check\n",
      "viterbiTagger(['they','can','can','fish'],wordTransFeatures,test_weights,alltags)"
     ],
     "language": "python",
     "metadata": {},
     "outputs": [
      {
       "metadata": {},
       "output_type": "pyout",
       "prompt_number": 315,
       "text": [
        "(['N', 'V', 'V', 'N'], 8.0)"
       ]
      }
     ],
     "prompt_number": 315
    },
    {
     "cell_type": "markdown",
     "metadata": {},
     "source": [
      "**Deliverable 5d** (5 points): create a function oneItAvgStructPerceptron, which performs a single iteration of averaged structured perceptron. It should be similar to your oneItAvgPerceptron, but will have to be different in some ways to reflect the structured prediction scenario.\n",
      "\n",
      "- To make predictions, you must call your viterbiTagger function\n",
      "- To compute the features for a given sequence of words and tags, you must call you seqFeatures function\n",
      "- As above, output the training accuracy, not the number of training errors"
     ]
    },
    {
     "cell_type": "code",
     "collapsed": false,
     "input": [
      "def oneItAvgStructPerceptron(inst_generator,\n",
      "                             featfunc,\n",
      "                             weights,\n",
      "                             wsum,\n",
      "                             tagset,\n",
      "                             Tinit=0):\n",
      "    \"\"\"\n",
      "    :param inst_generator: A generator of (words,tags) tuples\n",
      "    :param tagger: A function from (words, weights) to tags\n",
      "    :param features: A function from (words, tags) to a dict of features and weights\n",
      "    :param weights: A defaultdict of weights\n",
      "    :param wsum: A defaultdict of weight sums\n",
      "    :param Tinit: the initial value of the $t$ counter at the beginning of this iteration\n",
      "    :returns weights: a defaultdict of weights\n",
      "    :returns wsum: a defaultdict of weight sums, for averaging\n",
      "    :returns tr_acc: the training accuracy\n",
      "    :returns i: the number of instances (sentences) seen\n",
      "    \"\"\"\n",
      "    tr_err = 0.\n",
      "    tr_tot = 0.\n",
      "      # your code\n",
      "    return weights, wsum, 1-tr_err/tr_tot, i"
     ],
     "language": "python",
     "metadata": {},
     "outputs": [],
     "prompt_number": 18
    },
    {
     "cell_type": "markdown",
     "metadata": {},
     "source": [
      "Sanity check. Note that I'm only considering the first 100 sentences, and it still takes 6 seconds. You may want to debug on an even smaller subset of the corpus."
     ]
    },
    {
     "cell_type": "code",
     "collapsed": false,
     "input": [
      "%%timeit\n",
      "weights,wsum,tr_acc,i = oneItAvgStructPerceptron(tr_all[:100],wordTransFeatures,defaultdict(float),defaultdict(float),alltags)"
     ],
     "language": "python",
     "metadata": {},
     "outputs": [
      {
       "output_type": "stream",
       "stream": "stdout",
       "text": [
        "1 loops, best of 3: 5.81 s per loop\n"
       ]
      }
     ],
     "prompt_number": 364
    },
    {
     "cell_type": "markdown",
     "metadata": {},
     "source": [
      "Sample output"
     ]
    },
    {
     "cell_type": "code",
     "collapsed": false,
     "input": [
      "for tag1 in list(alltags)[:7]:\n",
      "    for tag2 in list(alltags)[:7]:\n",
      "        if weights[trans,tag1,tag2] != 0:\n",
      "            print tag1,tag2,weights[(trans,tag1,tag2)],wsum[trans,tag1,tag2]"
     ],
     "language": "python",
     "metadata": {},
     "outputs": [
      {
       "output_type": "stream",
       "stream": "stdout",
       "text": [
        "! ! -29.0 18.0\n",
        "! , 2.0 -49.0\n",
        "! @ 5.0 -75.0\n",
        "# # -3.0 -130.0\n",
        "# , -3.0 -329.0\n",
        "$ $ -14.0 -194.0\n",
        "$ , 1.0 -164.0\n",
        "& @ 2.0 127.0\n",
        ", ! 3.0 -196.0\n",
        ", # -4.0 -393.0\n",
        ", $ 3.0 68.0\n",
        ", & -3.0 -150.0\n",
        ", , -1.0 -43.0\n",
        ", A 3.0 158.0\n",
        ", @ 1.0 43.0\n",
        "A ! 2.0 108.0\n",
        "A , -1.0 -36.0\n",
        "A A -11.0 -400.0\n",
        "A @ -1.0 -33.0\n",
        "@ ! 1.0 95.0\n",
        "@ & 1.0 45.0\n",
        "@ @ -9.0 -412.0\n"
       ]
      }
     ],
     "prompt_number": 365
    },
    {
     "cell_type": "markdown",
     "metadata": {},
     "source": [
      "**Deliverable 5e** (2 points): Implement trainAvgStructPerceptron. This will be quite similar to your trainAvgPerceptron from ps1b, but will have to take slightly different arguments to handle the structured prediction case. Don't forget to use evalTagger to produce output."
     ]
    },
    {
     "cell_type": "code",
     "collapsed": false,
     "input": [
      "def trainAvgStructPerceptron(N_its,inst_generator,featfunc,tagset):\n",
      "    \"\"\"\n",
      "    :param N_its: number of iterations\n",
      "    :param inst_generator: A generator of (words,tags) tuples\n",
      "    :param tagger: A function from (words, weights) to tags\n",
      "    :param features: A function from (words, tags) to a dict of features and weights\n",
      "    :returns weights: defaultdict of weights\n",
      "    :returns tr_acc: training accuracy\n",
      "    :returns dv_acc: dev set accuracy\n",
      "    \"\"\"\n",
      "\n",
      "    tr_acc = [None]*N_its\n",
      "    dv_acc = [None]*N_its\n",
      "    T = 0\n",
      "    weights = defaultdict(float)\n",
      "    wsum = defaultdict(float)\n",
      "    for i in xrange(N_its):\n",
      "        # your code here\n",
      "        # note that I call evalTagger to produce the dev set results\n",
      "        confusion = evalTagger(lambda words,tags : viterbiTagger(words,featfunc,avg_weights,tags)[0],'sp.txt')\n",
      "        dv_acc[i] = scorer.accuracy(confusion)\n",
      "        tr_acc[i] = tr_acc_i#1. - tr_err/float(sum([len(s) for s,t in inst_generator]))\n",
      "        print i,'dev:',dv_acc[i],'train:',tr_acc[i]\n",
      "    return weights, tr_acc, dv_acc"
     ],
     "language": "python",
     "metadata": {},
     "outputs": [],
     "prompt_number": 19
    },
    {
     "cell_type": "code",
     "collapsed": false,
     "input": [
      "# your code should roughly reproduce this sanity check. It may be a little slow, so we'll just test on the first 50 instances.\n",
      "# While you're debugging your code, you can run on even smaller datasets.\n",
      "theta,tr_acc,dv_acc = trainAvgStructPerceptron(5,tr_all[:50],wordTransFeatures,alltags)"
     ],
     "language": "python",
     "metadata": {},
     "outputs": [
      {
       "output_type": "stream",
       "stream": "stdout",
       "text": [
        "0 dev: 0.373833713456 train: 0.207874015748\n",
        "1"
       ]
      },
      {
       "output_type": "stream",
       "stream": "stdout",
       "text": [
        " dev: 0.428778768401 train: 0.363779527559\n",
        "2"
       ]
      },
      {
       "output_type": "stream",
       "stream": "stdout",
       "text": [
        " dev: 0.472527472527 train: 0.587401574803\n",
        "3"
       ]
      },
      {
       "output_type": "stream",
       "stream": "stdout",
       "text": [
        " dev: 0.494920174165 train: 0.749606299213\n",
        "4"
       ]
      },
      {
       "output_type": "stream",
       "stream": "stdout",
       "text": [
        " dev: 0.513580758864 train: 0.763779527559\n"
       ]
      }
     ],
     "prompt_number": 385
    },
    {
     "cell_type": "markdown",
     "metadata": {},
     "source": [
      "Run your code on all the training data, using wordTransFeatures."
     ]
    },
    {
     "cell_type": "code",
     "collapsed": false,
     "input": [
      "theta,tr_acc,dv_acc = trainAvgStructPerceptron(20,tr_all,wordTransFeatures,alltags)"
     ],
     "language": "python",
     "metadata": {},
     "outputs": [
      {
       "output_type": "stream",
       "stream": "stdout",
       "text": [
        "0 dev: 0.66369479577 train: 0.488542307955\n",
        "1"
       ]
      },
      {
       "output_type": "stream",
       "stream": "stdout",
       "text": [
        " dev: 0.699979266017 train: 0.665366988166\n",
        "2"
       ]
      },
      {
       "output_type": "stream",
       "stream": "stdout",
       "text": [
        " dev: 0.717395811735 train: 0.742253232095\n",
        "3"
       ]
      },
      {
       "output_type": "stream",
       "stream": "stdout",
       "text": [
        " dev: 0.730250881194 train: 0.806484711677\n",
        "4"
       ]
      },
      {
       "output_type": "stream",
       "stream": "stdout",
       "text": [
        " dev: 0.741861911673 train: 0.849716122854\n",
        "5"
       ]
      },
      {
       "output_type": "stream",
       "stream": "stdout",
       "text": [
        " dev: 0.744764669293 train: 0.874820439155\n",
        "6"
       ]
      },
      {
       "output_type": "stream",
       "stream": "stdout",
       "text": [
        " dev: 0.748496786233 train: 0.893015938163\n",
        "7"
       ]
      },
      {
       "output_type": "stream",
       "stream": "stdout",
       "text": [
        " dev: 0.750155504872 train: 0.905055065326\n",
        "8"
       ]
      },
      {
       "output_type": "stream",
       "stream": "stdout",
       "text": [
        " dev: 0.752850922662 train: 0.914700047883\n",
        "9"
       ]
      },
      {
       "output_type": "stream",
       "stream": "stdout",
       "text": [
        " dev: 0.754924320962 train: 0.920445994938\n",
        "10"
       ]
      },
      {
       "output_type": "stream",
       "stream": "stdout",
       "text": [
        " dev: 0.755339000622 train: 0.915315685067\n",
        "11"
       ]
      },
      {
       "output_type": "stream",
       "stream": "stdout",
       "text": [
        " dev: 0.754716981132 train: 0.924003009782\n",
        "12"
       ]
      },
      {
       "output_type": "stream",
       "stream": "stdout",
       "text": [
        " dev: 0.754924320962 train: 0.930432998153\n",
        "13"
       ]
      },
      {
       "output_type": "stream",
       "stream": "stdout",
       "text": [
        " dev: 0.756168359942 train: 0.932963951023\n",
        "14"
       ]
      },
      {
       "output_type": "stream",
       "stream": "stdout",
       "text": [
        " dev: 0.756997719262 train: 0.936315753472\n",
        "15"
       ]
      },
      {
       "output_type": "stream",
       "stream": "stdout",
       "text": [
        " dev: 0.756997719262 train: 0.937478623709\n",
        "16"
       ]
      },
      {
       "output_type": "stream",
       "stream": "stdout",
       "text": [
        " dev: 0.757412398922 train: 0.941446063342\n",
        "17"
       ]
      },
      {
       "output_type": "stream",
       "stream": "stdout",
       "text": [
        " dev: 0.757619738752 train: 0.937889048499\n",
        "18"
       ]
      },
      {
       "output_type": "stream",
       "stream": "stdout",
       "text": [
        " dev: 0.757827078582 train: 0.939325535262\n",
        "19"
       ]
      },
      {
       "output_type": "stream",
       "stream": "stdout",
       "text": [
        " dev: 0.757827078582 train: 0.942882550106\n"
       ]
      }
     ],
     "prompt_number": 383
    },
    {
     "cell_type": "markdown",
     "metadata": {},
     "source": [
      "**Deliverable 5f** (3 points): Implement a better feature set for structured prediction. For speed reasons, you might not want to use all the features you used in 4e, but try to get as good an accuracy as you can. Last year I was able to get my structured perceptron to work a little better than my best classifier, but this year my classifier is (slightly) better!"
     ]
    },
    {
     "cell_type": "code",
     "collapsed": false,
     "input": [
      "def yourHMMFeatures(words,tag,prev_tag,m):\n",
      "    output = wordTransFeatures(words,tag,prev_tag,m) #start with the features from wordFeatures\n",
      "    #add smart stuff\n",
      "    return output"
     ],
     "language": "python",
     "metadata": {},
     "outputs": [],
     "prompt_number": 20
    },
    {
     "cell_type": "code",
     "collapsed": false,
     "input": [
      "theta,tr_acc,dv_acc = trainAvgStructPerceptron(15,tr_all,jacobHMMFeatures,alltags)"
     ],
     "language": "python",
     "metadata": {},
     "outputs": [
      {
       "output_type": "stream",
       "stream": "stdout",
       "text": [
        "0 dev: 0.783744557329 train: 0.658800191532\n",
        "1"
       ]
      },
      {
       "output_type": "stream",
       "stream": "stdout",
       "text": [
        " dev: 0.808832676757 train: 0.813598741364\n",
        "2"
       ]
      },
      {
       "output_type": "stream",
       "stream": "stdout",
       "text": [
        " dev: 0.822309765706 train: 0.88268691429\n",
        "3"
       ]
      },
      {
       "output_type": "stream",
       "stream": "stdout",
       "text": [
        " dev: 0.825212523326 train: 0.913126752856\n",
        "4"
       ]
      },
      {
       "output_type": "stream",
       "stream": "stdout",
       "text": [
        " dev: 0.829151980095 train: 0.935289691497\n",
        "5"
       ]
      },
      {
       "output_type": "stream",
       "stream": "stdout",
       "text": [
        " dev: 0.832676757205 train: 0.944866269923\n",
        "6"
       ]
      },
      {
       "output_type": "stream",
       "stream": "stdout",
       "text": [
        " dev: 0.833713456355 train: 0.956905397086\n",
        "7"
       ]
      },
      {
       "output_type": "stream",
       "stream": "stdout",
       "text": [
        " dev: 0.833920796185 train: 0.9655927218\n",
        "8"
       ]
      }
     ]
    },
    {
     "cell_type": "markdown",
     "metadata": {},
     "source": [
      "# 6. Error analysis #\n",
      "\n",
      "**Deliverable 6** (5 points; CS 7650 only). The scorer.py script produces a confusion matrix, which shows the most common types of errors. Consider your best tagger in any part of the assignment, and identify the three most frequent errors (e.g., N classified as V). Find an example sentence in your tagger has made each type of error, and explain why you think it made the mistake, and how it could be fixed. (If you are feeling competitive, you can then use this information to go back and try to improve your features.)"
     ]
    },
    {
     "cell_type": "markdown",
     "metadata": {},
     "source": [
      "# 7. Bakeoff! #\n",
      "\n",
      "48 hours before the assignment is due, we will send you unlabeled test data. Your job is to produce a response file that I can evaluate. I'll present the results in class and give the best scorers a chance to explain what they did.\n",
      "\n",
      "** Deliverable 7 ** (3 points) Run your best system from any part of the assignment on the test data. You may also try to improve your system in other ways, such as by using Passive-Aggressive to learn the weights; however, in Deliverable 5f you specifically need to improve the system by designing better features.\n",
      "\n",
      "Rename your response file as lastname-firstname.response, and include it in your submission on T-Square. (Please get this filename right, otherwise we may miss your submission to the bakeoff.) The top scores will be announced inclass.\n"
     ]
    }
   ],
   "metadata": {}
  }
 ]
}